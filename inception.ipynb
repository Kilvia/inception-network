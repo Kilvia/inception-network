{
  "cells": [
    {
      "cell_type": "markdown",
      "metadata": {
        "id": "view-in-github",
        "colab_type": "text"
      },
      "source": [
        "<a href=\"https://colab.research.google.com/github/Kilvia/inception-network/blob/main/inception.ipynb\" target=\"_parent\"><img src=\"https://colab.research.google.com/assets/colab-badge.svg\" alt=\"Open In Colab\"/></a>"
      ]
    },
    {
      "cell_type": "markdown",
      "metadata": {
        "id": "6Ey7jCNH0fFo"
      },
      "source": [
        "### Inception Module\n",
        "\n",
        "- `strides`는 모두 1로 설정해야 output size가 맞게 나올 것이다.\n",
        "\n",
        "\n",
        "\n",
        "<img src=\"https://user-images.githubusercontent.com/37704174/108797724-369ef800-75cf-11eb-987a-926657daf61e.JPG\" width=\"400\" height=\"400\"/>  \n",
        "\n"
      ]
    },
    {
      "cell_type": "markdown",
      "metadata": {
        "id": "ckzNKTMr0fFo"
      },
      "source": [
        "### Inception Network Architecture\n",
        "- 아래의 표에 있는대로 구성을 하면 이러한 구조의 모델이 만들어진다.\n",
        "\n",
        "<img src=\"https://user-images.githubusercontent.com/37704174/108797713-2dae2680-75cf-11eb-8593-5a1bf50549da.png\" width=\"400\" height=\"400\"/>  "
      ]
    },
    {
      "cell_type": "markdown",
      "metadata": {
        "id": "8Zuf2ydQ0fFp"
      },
      "source": [
        "### Specification\n",
        "\n",
        "\n",
        "<img src=\"https://user-images.githubusercontent.com/37704174/109782740-8d9a7200-7c4c-11eb-9999-d859b67dc468.JPG\" width=\"600\" height=\"600\"/>  \n",
        "\n",
        "- 이 표에 있는 대로 위에서부터 layer 및 Inception module을 쌓아야 한다.\n",
        "- 모든 `Conv2D`와 `MaxPool2D`의 padding 옵션은 `same`으로 설정해야 output size가 올바르게 나올 것이다.\n",
        "- 표 3행을 보면 convolution의 depth가 2이다. 이것은 `Conv2D` layer가 2개 있다는 뜻이고, 각각의 filter의 수는 64, 192로 설정해야 한다.\n",
        "- Inception module의 hyperparameter 설명\n",
        "  - #1x1: 맨 왼쪽 1x1 convolution layer의 filter 수\n",
        "  - #3x3 reduce: 3x3 convolution layer 이전에 나오는 1x1 convolution layer의 filter 수\n",
        "  - #3x3: 3x3 convolution layer의 filter 수\n",
        "  - #5x5 reduce: 5x5 convolution layer 이전에 나오는 1x1 convolution layer의 filter 수\n",
        "  - #5x5: 5x5 convolution layer의 filter 수\n",
        "  - pool proj: max pooling 다음에 나오는 1x1 convolution layer의 filter 수"
      ]
    },
    {
      "cell_type": "markdown",
      "metadata": {
        "id": "DtfJdTkn0fFp"
      },
      "source": [
        "## Import Modules"
      ]
    },
    {
      "cell_type": "code",
      "execution_count": null,
      "metadata": {
        "id": "pcmXyO0M0fFp"
      },
      "outputs": [],
      "source": [
        "import tensorflow as tf\n",
        "from tensorflow.keras.layers import Input, Dense, Conv2D, Concatenate, Flatten, Add, MaxPool2D, GlobalAveragePooling2D, Conv1D\n",
        "### 자유롭게 import"
      ]
    },
    {
      "cell_type": "markdown",
      "metadata": {
        "id": "sreTcgqm0fFp"
      },
      "source": [
        "## GPU Setting"
      ]
    },
    {
      "cell_type": "code",
      "execution_count": null,
      "metadata": {
        "id": "CglkPMBZ0fFq",
        "colab": {
          "base_uri": "https://localhost:8080/"
        },
        "outputId": "3d5cbb8a-602a-4bb2-857e-88f5ea18f0d8"
      },
      "outputs": [
        {
          "output_type": "stream",
          "name": "stdout",
          "text": [
            "Num_GPUs:0, List:[]\n"
          ]
        }
      ],
      "source": [
        "\"\"\"\n",
        "Make sure your runtime type is GPU!\n",
        "\"\"\"\n",
        "physical_devices = tf.config.list_physical_devices('GPU')\n",
        "print('Num_GPUs:{}, List:{}'.format(len(physical_devices), physical_devices))"
      ]
    },
    {
      "cell_type": "markdown",
      "metadata": {
        "id": "6RXfpcFz0fFq"
      },
      "source": [
        "## 1. Implement Inception Network\n"
      ]
    },
    {
      "cell_type": "markdown",
      "metadata": {
        "id": "eq5jlPAc0fFq"
      },
      "source": [
        "### Inception Module"
      ]
    },
    {
      "cell_type": "code",
      "execution_count": null,
      "metadata": {
        "id": "vHJfrHqk0fFq"
      },
      "outputs": [],
      "source": [
        "def InceptionModule(inputs, f_1x1, f_3x3_r, f_3x3, f_5x5_r, f_5x5, f_pool):\n",
        "    \"\"\"\n",
        "    inputs: input of Inception module\n",
        "    f_ : number of filters in the table above\n",
        "    \n",
        "    \"\"\"\n",
        "    x_1_1 = MaxPool2D(pool_size=(3,3), strides=(1,1), padding='same')(inputs)\n",
        "    x_2_1 = Conv2D(filters=f_5x5_r, kernel_size=(1,1), padding='same', activation='relu')(inputs)\n",
        "    x_3_1 = Conv2D(filters=f_3x3_r, kernel_size=(1,1), padding='same', activation='relu')(inputs)\n",
        "    \n",
        "    x_1_2 = Conv2D(filters=f_pool, kernel_size=(1,1), padding='same', activation='relu')(x_1_1)\n",
        "    x_2_2 = Conv2D(filters=f_5x5, kernel_size=(5,5), padding='same', activation='relu')(x_2_1)\n",
        "    x_3_2 = Conv2D(filters=f_3x3, kernel_size=(3,3), padding='same', activation='relu')(x_3_1)\n",
        "    x_4 = Conv2D(filters=f_1x1, kernel_size=(1,1), padding='same', activation='relu')(inputs)\n",
        "    \n",
        "    outputs = Concatenate(axis=-1)([x_1_2, x_2_2, x_3_2, x_4])\n",
        "    \n",
        "    #######################################\n",
        "    return outputs"
      ]
    },
    {
      "cell_type": "markdown",
      "metadata": {
        "id": "08H5rw-B0fFq"
      },
      "source": [
        "### Inception Network"
      ]
    },
    {
      "cell_type": "code",
      "execution_count": null,
      "metadata": {
        "id": "BRbPhu2a0fFq"
      },
      "outputs": [],
      "source": [
        "def InceptionNet():\n",
        "    inputs = tf.keras.layers.Input(shape=(32, 32, 3))\n",
        "    \n",
        "    x = Conv2D(filters=64, kernel_size=(7,7), strides=(1,1), padding='same')(inputs)\n",
        "    x = MaxPool2D(pool_size=(3,3), strides=(2,2), padding='same')(x)\n",
        "    x = Conv2D(filters=192, kernel_size=(3,3), strides=(1,1), padding='same')(x)\n",
        "    x = MaxPool2D(pool_size=(3,3), strides=(2,2), padding='same')(x)\n",
        "\n",
        "    x = InceptionModule(x, 64, 96, 128, 16, 32, 32)\n",
        "    x = InceptionModule(x, 128, 128, 192, 32, 96, 64)\n",
        "\n",
        "    x = MaxPool2D(pool_size=(3,3), strides=(2,2), padding='same')(x)\n",
        "\n",
        "    x = InceptionModule(x, 192, 96, 208, 16, 48, 64)\n",
        "    x = InceptionModule(x, 160, 112, 224, 24, 64, 64)\n",
        "    x = InceptionModule(x, 128, 128, 256, 24, 64, 64)\n",
        "    x = InceptionModule(x, 112, 144, 288, 32, 64, 64)\n",
        "    x = InceptionModule(x, 256, 160, 320, 32, 128, 128)\n",
        "    \n",
        "    x = MaxPool2D(pool_size=(3,3), strides=(2,2), padding='same')(x)\n",
        "\n",
        "    x = InceptionModule(x, 256, 160, 320, 32, 128, 128)\n",
        "    x = InceptionModule(x, 384, 192, 384, 48, 128, 128)\n",
        "\n",
        "    x = GlobalAveragePooling2D()(x)\n",
        "    x = Dense(10, activation='linear')(x)\n",
        "    \n",
        "    outputs = Dense(10, activation='softmax')(x)\n",
        "    \n",
        "    #########################################################################\n",
        "    \n",
        "    return tf.keras.Model(inputs=inputs, outputs=outputs)"
      ]
    },
    {
      "cell_type": "code",
      "execution_count": null,
      "metadata": {
        "id": "Xi0bcc3h0fFq"
      },
      "outputs": [],
      "source": [
        "my_inception = InceptionNet()"
      ]
    },
    {
      "cell_type": "markdown",
      "metadata": {
        "id": "BRxK1iht0fFq"
      },
      "source": [
        "### Model Summary\n",
        "\n",
        "아래 셀을 실행 했을 때, 표의 각각에 해당하는 output size가 맞게 나와야 한다."
      ]
    },
    {
      "cell_type": "code",
      "execution_count": null,
      "metadata": {
        "id": "jsSGxfNq0fFq",
        "colab": {
          "base_uri": "https://localhost:8080/"
        },
        "outputId": "f946b7da-b027-453b-8bce-78279ccca8a8"
      },
      "outputs": [
        {
          "output_type": "stream",
          "name": "stdout",
          "text": [
            "Model: \"model\"\n",
            "__________________________________________________________________________________________________\n",
            " Layer (type)                   Output Shape         Param #     Connected to                     \n",
            "==================================================================================================\n",
            " input_1 (InputLayer)           [(None, 32, 32, 3)]  0           []                               \n",
            "                                                                                                  \n",
            " conv2d (Conv2D)                (None, 32, 32, 64)   9472        ['input_1[0][0]']                \n",
            "                                                                                                  \n",
            " max_pooling2d (MaxPooling2D)   (None, 16, 16, 64)   0           ['conv2d[0][0]']                 \n",
            "                                                                                                  \n",
            " conv2d_1 (Conv2D)              (None, 16, 16, 192)  110784      ['max_pooling2d[0][0]']          \n",
            "                                                                                                  \n",
            " max_pooling2d_1 (MaxPooling2D)  (None, 8, 8, 192)   0           ['conv2d_1[0][0]']               \n",
            "                                                                                                  \n",
            " max_pooling2d_2 (MaxPooling2D)  (None, 8, 8, 192)   0           ['max_pooling2d_1[0][0]']        \n",
            "                                                                                                  \n",
            " conv2d_2 (Conv2D)              (None, 8, 8, 16)     3088        ['max_pooling2d_1[0][0]']        \n",
            "                                                                                                  \n",
            " conv2d_3 (Conv2D)              (None, 8, 8, 96)     18528       ['max_pooling2d_1[0][0]']        \n",
            "                                                                                                  \n",
            " conv2d_4 (Conv2D)              (None, 8, 8, 32)     6176        ['max_pooling2d_2[0][0]']        \n",
            "                                                                                                  \n",
            " conv2d_5 (Conv2D)              (None, 8, 8, 32)     12832       ['conv2d_2[0][0]']               \n",
            "                                                                                                  \n",
            " conv2d_6 (Conv2D)              (None, 8, 8, 128)    110720      ['conv2d_3[0][0]']               \n",
            "                                                                                                  \n",
            " conv2d_7 (Conv2D)              (None, 8, 8, 64)     12352       ['max_pooling2d_1[0][0]']        \n",
            "                                                                                                  \n",
            " concatenate (Concatenate)      (None, 8, 8, 256)    0           ['conv2d_4[0][0]',               \n",
            "                                                                  'conv2d_5[0][0]',               \n",
            "                                                                  'conv2d_6[0][0]',               \n",
            "                                                                  'conv2d_7[0][0]']               \n",
            "                                                                                                  \n",
            " max_pooling2d_3 (MaxPooling2D)  (None, 8, 8, 256)   0           ['concatenate[0][0]']            \n",
            "                                                                                                  \n",
            " conv2d_8 (Conv2D)              (None, 8, 8, 32)     8224        ['concatenate[0][0]']            \n",
            "                                                                                                  \n",
            " conv2d_9 (Conv2D)              (None, 8, 8, 128)    32896       ['concatenate[0][0]']            \n",
            "                                                                                                  \n",
            " conv2d_10 (Conv2D)             (None, 8, 8, 64)     16448       ['max_pooling2d_3[0][0]']        \n",
            "                                                                                                  \n",
            " conv2d_11 (Conv2D)             (None, 8, 8, 96)     76896       ['conv2d_8[0][0]']               \n",
            "                                                                                                  \n",
            " conv2d_12 (Conv2D)             (None, 8, 8, 192)    221376      ['conv2d_9[0][0]']               \n",
            "                                                                                                  \n",
            " conv2d_13 (Conv2D)             (None, 8, 8, 128)    32896       ['concatenate[0][0]']            \n",
            "                                                                                                  \n",
            " concatenate_1 (Concatenate)    (None, 8, 8, 480)    0           ['conv2d_10[0][0]',              \n",
            "                                                                  'conv2d_11[0][0]',              \n",
            "                                                                  'conv2d_12[0][0]',              \n",
            "                                                                  'conv2d_13[0][0]']              \n",
            "                                                                                                  \n",
            " max_pooling2d_4 (MaxPooling2D)  (None, 4, 4, 480)   0           ['concatenate_1[0][0]']          \n",
            "                                                                                                  \n",
            " max_pooling2d_5 (MaxPooling2D)  (None, 4, 4, 480)   0           ['max_pooling2d_4[0][0]']        \n",
            "                                                                                                  \n",
            " conv2d_14 (Conv2D)             (None, 4, 4, 16)     7696        ['max_pooling2d_4[0][0]']        \n",
            "                                                                                                  \n",
            " conv2d_15 (Conv2D)             (None, 4, 4, 96)     46176       ['max_pooling2d_4[0][0]']        \n",
            "                                                                                                  \n",
            " conv2d_16 (Conv2D)             (None, 4, 4, 64)     30784       ['max_pooling2d_5[0][0]']        \n",
            "                                                                                                  \n",
            " conv2d_17 (Conv2D)             (None, 4, 4, 48)     19248       ['conv2d_14[0][0]']              \n",
            "                                                                                                  \n",
            " conv2d_18 (Conv2D)             (None, 4, 4, 208)    179920      ['conv2d_15[0][0]']              \n",
            "                                                                                                  \n",
            " conv2d_19 (Conv2D)             (None, 4, 4, 192)    92352       ['max_pooling2d_4[0][0]']        \n",
            "                                                                                                  \n",
            " concatenate_2 (Concatenate)    (None, 4, 4, 512)    0           ['conv2d_16[0][0]',              \n",
            "                                                                  'conv2d_17[0][0]',              \n",
            "                                                                  'conv2d_18[0][0]',              \n",
            "                                                                  'conv2d_19[0][0]']              \n",
            "                                                                                                  \n",
            " max_pooling2d_6 (MaxPooling2D)  (None, 4, 4, 512)   0           ['concatenate_2[0][0]']          \n",
            "                                                                                                  \n",
            " conv2d_20 (Conv2D)             (None, 4, 4, 24)     12312       ['concatenate_2[0][0]']          \n",
            "                                                                                                  \n",
            " conv2d_21 (Conv2D)             (None, 4, 4, 112)    57456       ['concatenate_2[0][0]']          \n",
            "                                                                                                  \n",
            " conv2d_22 (Conv2D)             (None, 4, 4, 64)     32832       ['max_pooling2d_6[0][0]']        \n",
            "                                                                                                  \n",
            " conv2d_23 (Conv2D)             (None, 4, 4, 64)     38464       ['conv2d_20[0][0]']              \n",
            "                                                                                                  \n",
            " conv2d_24 (Conv2D)             (None, 4, 4, 224)    226016      ['conv2d_21[0][0]']              \n",
            "                                                                                                  \n",
            " conv2d_25 (Conv2D)             (None, 4, 4, 160)    82080       ['concatenate_2[0][0]']          \n",
            "                                                                                                  \n",
            " concatenate_3 (Concatenate)    (None, 4, 4, 512)    0           ['conv2d_22[0][0]',              \n",
            "                                                                  'conv2d_23[0][0]',              \n",
            "                                                                  'conv2d_24[0][0]',              \n",
            "                                                                  'conv2d_25[0][0]']              \n",
            "                                                                                                  \n",
            " max_pooling2d_7 (MaxPooling2D)  (None, 4, 4, 512)   0           ['concatenate_3[0][0]']          \n",
            "                                                                                                  \n",
            " conv2d_26 (Conv2D)             (None, 4, 4, 24)     12312       ['concatenate_3[0][0]']          \n",
            "                                                                                                  \n",
            " conv2d_27 (Conv2D)             (None, 4, 4, 128)    65664       ['concatenate_3[0][0]']          \n",
            "                                                                                                  \n",
            " conv2d_28 (Conv2D)             (None, 4, 4, 64)     32832       ['max_pooling2d_7[0][0]']        \n",
            "                                                                                                  \n",
            " conv2d_29 (Conv2D)             (None, 4, 4, 64)     38464       ['conv2d_26[0][0]']              \n",
            "                                                                                                  \n",
            " conv2d_30 (Conv2D)             (None, 4, 4, 256)    295168      ['conv2d_27[0][0]']              \n",
            "                                                                                                  \n",
            " conv2d_31 (Conv2D)             (None, 4, 4, 128)    65664       ['concatenate_3[0][0]']          \n",
            "                                                                                                  \n",
            " concatenate_4 (Concatenate)    (None, 4, 4, 512)    0           ['conv2d_28[0][0]',              \n",
            "                                                                  'conv2d_29[0][0]',              \n",
            "                                                                  'conv2d_30[0][0]',              \n",
            "                                                                  'conv2d_31[0][0]']              \n",
            "                                                                                                  \n",
            " max_pooling2d_8 (MaxPooling2D)  (None, 4, 4, 512)   0           ['concatenate_4[0][0]']          \n",
            "                                                                                                  \n",
            " conv2d_32 (Conv2D)             (None, 4, 4, 32)     16416       ['concatenate_4[0][0]']          \n",
            "                                                                                                  \n",
            " conv2d_33 (Conv2D)             (None, 4, 4, 144)    73872       ['concatenate_4[0][0]']          \n",
            "                                                                                                  \n",
            " conv2d_34 (Conv2D)             (None, 4, 4, 64)     32832       ['max_pooling2d_8[0][0]']        \n",
            "                                                                                                  \n",
            " conv2d_35 (Conv2D)             (None, 4, 4, 64)     51264       ['conv2d_32[0][0]']              \n",
            "                                                                                                  \n",
            " conv2d_36 (Conv2D)             (None, 4, 4, 288)    373536      ['conv2d_33[0][0]']              \n",
            "                                                                                                  \n",
            " conv2d_37 (Conv2D)             (None, 4, 4, 112)    57456       ['concatenate_4[0][0]']          \n",
            "                                                                                                  \n",
            " concatenate_5 (Concatenate)    (None, 4, 4, 528)    0           ['conv2d_34[0][0]',              \n",
            "                                                                  'conv2d_35[0][0]',              \n",
            "                                                                  'conv2d_36[0][0]',              \n",
            "                                                                  'conv2d_37[0][0]']              \n",
            "                                                                                                  \n",
            " max_pooling2d_9 (MaxPooling2D)  (None, 4, 4, 528)   0           ['concatenate_5[0][0]']          \n",
            "                                                                                                  \n",
            " conv2d_38 (Conv2D)             (None, 4, 4, 32)     16928       ['concatenate_5[0][0]']          \n",
            "                                                                                                  \n",
            " conv2d_39 (Conv2D)             (None, 4, 4, 160)    84640       ['concatenate_5[0][0]']          \n",
            "                                                                                                  \n",
            " conv2d_40 (Conv2D)             (None, 4, 4, 128)    67712       ['max_pooling2d_9[0][0]']        \n",
            "                                                                                                  \n",
            " conv2d_41 (Conv2D)             (None, 4, 4, 128)    102528      ['conv2d_38[0][0]']              \n",
            "                                                                                                  \n",
            " conv2d_42 (Conv2D)             (None, 4, 4, 320)    461120      ['conv2d_39[0][0]']              \n",
            "                                                                                                  \n",
            " conv2d_43 (Conv2D)             (None, 4, 4, 256)    135424      ['concatenate_5[0][0]']          \n",
            "                                                                                                  \n",
            " concatenate_6 (Concatenate)    (None, 4, 4, 832)    0           ['conv2d_40[0][0]',              \n",
            "                                                                  'conv2d_41[0][0]',              \n",
            "                                                                  'conv2d_42[0][0]',              \n",
            "                                                                  'conv2d_43[0][0]']              \n",
            "                                                                                                  \n",
            " max_pooling2d_10 (MaxPooling2D  (None, 2, 2, 832)   0           ['concatenate_6[0][0]']          \n",
            " )                                                                                                \n",
            "                                                                                                  \n",
            " max_pooling2d_11 (MaxPooling2D  (None, 2, 2, 832)   0           ['max_pooling2d_10[0][0]']       \n",
            " )                                                                                                \n",
            "                                                                                                  \n",
            " conv2d_44 (Conv2D)             (None, 2, 2, 32)     26656       ['max_pooling2d_10[0][0]']       \n",
            "                                                                                                  \n",
            " conv2d_45 (Conv2D)             (None, 2, 2, 160)    133280      ['max_pooling2d_10[0][0]']       \n",
            "                                                                                                  \n",
            " conv2d_46 (Conv2D)             (None, 2, 2, 128)    106624      ['max_pooling2d_11[0][0]']       \n",
            "                                                                                                  \n",
            " conv2d_47 (Conv2D)             (None, 2, 2, 128)    102528      ['conv2d_44[0][0]']              \n",
            "                                                                                                  \n",
            " conv2d_48 (Conv2D)             (None, 2, 2, 320)    461120      ['conv2d_45[0][0]']              \n",
            "                                                                                                  \n",
            " conv2d_49 (Conv2D)             (None, 2, 2, 256)    213248      ['max_pooling2d_10[0][0]']       \n",
            "                                                                                                  \n",
            " concatenate_7 (Concatenate)    (None, 2, 2, 832)    0           ['conv2d_46[0][0]',              \n",
            "                                                                  'conv2d_47[0][0]',              \n",
            "                                                                  'conv2d_48[0][0]',              \n",
            "                                                                  'conv2d_49[0][0]']              \n",
            "                                                                                                  \n",
            " max_pooling2d_12 (MaxPooling2D  (None, 2, 2, 832)   0           ['concatenate_7[0][0]']          \n",
            " )                                                                                                \n",
            "                                                                                                  \n",
            " conv2d_50 (Conv2D)             (None, 2, 2, 48)     39984       ['concatenate_7[0][0]']          \n",
            "                                                                                                  \n",
            " conv2d_51 (Conv2D)             (None, 2, 2, 192)    159936      ['concatenate_7[0][0]']          \n",
            "                                                                                                  \n",
            " conv2d_52 (Conv2D)             (None, 2, 2, 128)    106624      ['max_pooling2d_12[0][0]']       \n",
            "                                                                                                  \n",
            " conv2d_53 (Conv2D)             (None, 2, 2, 128)    153728      ['conv2d_50[0][0]']              \n",
            "                                                                                                  \n",
            " conv2d_54 (Conv2D)             (None, 2, 2, 384)    663936      ['conv2d_51[0][0]']              \n",
            "                                                                                                  \n",
            " conv2d_55 (Conv2D)             (None, 2, 2, 384)    319872      ['concatenate_7[0][0]']          \n",
            "                                                                                                  \n",
            " concatenate_8 (Concatenate)    (None, 2, 2, 1024)   0           ['conv2d_52[0][0]',              \n",
            "                                                                  'conv2d_53[0][0]',              \n",
            "                                                                  'conv2d_54[0][0]',              \n",
            "                                                                  'conv2d_55[0][0]']              \n",
            "                                                                                                  \n",
            " global_average_pooling2d (Glob  (None, 1024)        0           ['concatenate_8[0][0]']          \n",
            " alAveragePooling2D)                                                                              \n",
            "                                                                                                  \n",
            " dense (Dense)                  (None, 10)           10250       ['global_average_pooling2d[0][0]'\n",
            "                                                                 ]                                \n",
            "                                                                                                  \n",
            " dense_1 (Dense)                (None, 10)           110         ['dense[0][0]']                  \n",
            "                                                                                                  \n",
            "==================================================================================================\n",
            "Total params: 5,979,752\n",
            "Trainable params: 5,979,752\n",
            "Non-trainable params: 0\n",
            "__________________________________________________________________________________________________\n"
          ]
        }
      ],
      "source": [
        "my_inception.summary()"
      ]
    },
    {
      "cell_type": "markdown",
      "metadata": {
        "id": "_jTlhJr50fFq"
      },
      "source": [
        "## 2. Dataset"
      ]
    },
    {
      "cell_type": "markdown",
      "metadata": {
        "id": "9BzMxdWx0fFq"
      },
      "source": [
        "### Training Data\n",
        "\n",
        "아래의 데이터를 이용한다."
      ]
    },
    {
      "cell_type": "code",
      "execution_count": null,
      "metadata": {
        "id": "HhKIX6wM0fFq"
      },
      "outputs": [],
      "source": [
        "### DO NOT MODIFY ###\n",
        "cifar10 = tf.keras.datasets.cifar10\n",
        "#Load data\n",
        "(x_train, y_train), (x_test, y_test) = cifar10.load_data()\n",
        "\n",
        "#Split train set into train/valid set\n",
        "from sklearn import model_selection\n",
        "x_train, x_valid, y_train, y_valid = model_selection.train_test_split(x_train, y_train,test_size=0.1)"
      ]
    },
    {
      "cell_type": "markdown",
      "metadata": {
        "id": "RSWRXTR-0fFr"
      },
      "source": [
        "### Data Preprocessing\n",
        "\n",
        "원하는 대로 데이터를 전처리 해주면 된다."
      ]
    },
    {
      "cell_type": "code",
      "execution_count": null,
      "metadata": {
        "id": "tsdM94z30fFr"
      },
      "outputs": [],
      "source": [
        "x_train = tf.keras.layers.experimental.preprocessing.Rescaling(1.0/255.0)(x_train)\n",
        "x_test = tf.keras.layers.experimental.preprocessing.Rescaling(1.0/255.0)(x_test)\n",
        "x_valid = tf.keras.layers.experimental.preprocessing.Rescaling(1.0/255.0)(x_valid)\n",
        "\n",
        "# x_train = tf.keras.layers.experimental.preprocessing.RandomFlip('horizontal_and_vertical')(x_train)\n",
        "# x_train = tf.keras.layers.experimental.preprocessing.RandomRotation(0.2)(x_train)\n",
        "\n",
        "\n",
        "###############################################"
      ]
    },
    {
      "cell_type": "markdown",
      "metadata": {
        "id": "BG4ciUAn0fFr"
      },
      "source": [
        "## 3. Training"
      ]
    },
    {
      "cell_type": "markdown",
      "metadata": {
        "id": "1TF1J-S10fFr"
      },
      "source": [
        "### Model Compile\n",
        "\n",
        "Optimizer, Loss function을 알맞게 설정한다. <br>\n",
        "Callbacks도 자유롭게 사용한다."
      ]
    },
    {
      "cell_type": "code",
      "execution_count": null,
      "metadata": {
        "id": "rEhtrH8M0fFr"
      },
      "outputs": [],
      "source": [
        "loss_fn = tf.keras.losses.SparseCategoricalCrossentropy()\n",
        "optim_fn = tf.keras.optimizers.SGD(learning_rate=0.01, momentum=0.9)\n",
        "\n",
        "my_inception.compile( optimizer=optim_fn,\n",
        "                     loss=loss_fn,\n",
        "                     metrics=['accuracy'] )"
      ]
    },
    {
      "cell_type": "code",
      "source": [
        "import math\n",
        "import os\n",
        "\n",
        "checkpoint_dir = './training_checkpoints_cnn'\n",
        "checkpoint_prefix = os.path.join(checkpoint_dir, \"ckpt_{epoch}\")\n",
        "\n",
        "def decay(epoch, steps=100):\n",
        "  # Change Learning rate\n",
        "    learn_rate = 0.01\n",
        "    drop = 0.96\n",
        "    epoch_drop = 8\n",
        "\n",
        "    curr_learn_rate = learn_rate * math.pow(drop, math.floor((1+epoch)/epoch_drop))\n",
        "    return curr_learn_rate\n",
        "\n",
        "callbacks = [\n",
        "    # tf.keras.callbacks.ModelCheckpoint(filepath=checkpoint_prefix, save_weights_only = True),\n",
        "    tf.keras.callbacks.LearningRateScheduler(decay, verbose=1)\n",
        "]"
      ],
      "metadata": {
        "id": "2JajFKpCs53G"
      },
      "execution_count": null,
      "outputs": []
    },
    {
      "cell_type": "markdown",
      "metadata": {
        "id": "WAKfP45l0fFr"
      },
      "source": [
        "### Model Training\n",
        "\n",
        "hyperparameter를 적절히 설정한다. (epochs 등..)"
      ]
    },
    {
      "cell_type": "code",
      "execution_count": null,
      "metadata": {
        "id": "s5inO5l-0fFr",
        "colab": {
          "base_uri": "https://localhost:8080/"
        },
        "outputId": "9e1d8b17-0175-408b-d298-5a325cdb774a"
      },
      "outputs": [
        {
          "output_type": "stream",
          "name": "stdout",
          "text": [
            "Epoch 1/15\n",
            "1407/1407 [==============================] - 1248s 887ms/step - loss: 2.2494 - accuracy: 0.1362 - val_loss: 2.1439 - val_accuracy: 0.1756 - lr: 1.0000e-04\n",
            "Epoch 2/15\n",
            "1407/1407 [==============================] - 1242s 883ms/step - loss: 2.0273 - accuracy: 0.2268 - val_loss: 1.9574 - val_accuracy: 0.2272 - lr: 1.0000e-04\n",
            "Epoch 3/15\n",
            "1407/1407 [==============================] - 1253s 891ms/step - loss: 1.8784 - accuracy: 0.2961 - val_loss: 1.7820 - val_accuracy: 0.3332 - lr: 1.0000e-04\n",
            "Epoch 4/15\n",
            "1407/1407 [==============================] - 1256s 893ms/step - loss: 1.7493 - accuracy: 0.3526 - val_loss: 1.7201 - val_accuracy: 0.3644 - lr: 1.0000e-05\n",
            "Epoch 5/15\n",
            "1407/1407 [==============================] - 1262s 897ms/step - loss: 1.7212 - accuracy: 0.3638 - val_loss: 1.7210 - val_accuracy: 0.3640 - lr: 1.0000e-05\n",
            "Epoch 6/15\n",
            "1407/1407 [==============================] - 1246s 886ms/step - loss: 1.7021 - accuracy: 0.3713 - val_loss: 1.7064 - val_accuracy: 0.3670 - lr: 1.0000e-05\n",
            "Epoch 7/15\n",
            "1407/1407 [==============================] - 1246s 886ms/step - loss: 1.6854 - accuracy: 0.3778 - val_loss: 1.6836 - val_accuracy: 0.3788 - lr: 1.0000e-05\n",
            "Epoch 8/15\n",
            "1407/1407 [==============================] - 1247s 886ms/step - loss: 1.6657 - accuracy: 0.3863 - val_loss: 1.6802 - val_accuracy: 0.3814 - lr: 1.0000e-06\n",
            "Epoch 9/15\n",
            " 578/1407 [===========>..................] - ETA: 12:00 - loss: 1.6659 - accuracy: 0.3899"
          ]
        }
      ],
      "source": [
        "## Q5. Set hyperparameters & training ##\n",
        "hist = my_inception.fit(x=x_train, \n",
        "                        y=y_train, \n",
        "                        validation_data=(x_valid, y_valid),\n",
        "                        callbacks=callbacks,\n",
        "                        epochs=25\n",
        "                        )\n",
        "########################################"
      ]
    },
    {
      "cell_type": "markdown",
      "metadata": {
        "id": "MtERovo60fFr"
      },
      "source": [
        "## 참고 >\n",
        "\n",
        "조교가 학습한 모델의 validation accuracy를 그래프로 나타내 보았다."
      ]
    },
    {
      "cell_type": "code",
      "execution_count": null,
      "metadata": {
        "id": "jvx8GtJu0fFr",
        "scrolled": true
      },
      "outputs": [],
      "source": [
        "import matplotlib.pyplot as plt\n",
        "\n",
        "plt.plot(hist.history['val_accuracy'])\n",
        "plt.title('Validation Accuracy', fontsize=15)\n",
        "plt.xlabel('epochs', fontsize=15)\n",
        "plt.ylabel('Acc.', fontsize=15)\n",
        "\n",
        "plt.show()"
      ]
    },
    {
      "cell_type": "markdown",
      "metadata": {
        "id": "SqxUlR2V0fFr"
      },
      "source": [
        "## Test Accuracy\n"
      ]
    },
    {
      "cell_type": "code",
      "execution_count": null,
      "metadata": {
        "id": "0Fa_78sc0fFr"
      },
      "outputs": [],
      "source": [
        "my_inception.evaluate(x_test, y_test)"
      ]
    }
  ],
  "metadata": {
    "colab": {
      "provenance": [],
      "include_colab_link": true
    },
    "kernelspec": {
      "display_name": "Python 3 (ipykernel)",
      "language": "python",
      "name": "python3"
    },
    "language_info": {
      "codemirror_mode": {
        "name": "ipython",
        "version": 3
      },
      "file_extension": ".py",
      "mimetype": "text/x-python",
      "name": "python",
      "nbconvert_exporter": "python",
      "pygments_lexer": "ipython3",
      "version": "3.8.13"
    },
    "accelerator": "GPU",
    "gpuClass": "standard"
  },
  "nbformat": 4,
  "nbformat_minor": 0
}